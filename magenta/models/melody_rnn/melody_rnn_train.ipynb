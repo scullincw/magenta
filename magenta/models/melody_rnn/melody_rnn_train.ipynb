{
 "nbformat": 4,
 "nbformat_minor": 2,
 "metadata": {
  "language_info": {
   "name": "python",
   "codemirror_mode": {
    "name": "ipython",
    "version": 3
   },
   "version": "3.7.6-final"
  },
  "orig_nbformat": 2,
  "file_extension": ".py",
  "mimetype": "text/x-python",
  "name": "python",
  "npconvert_exporter": "python",
  "pygments_lexer": "ipython3",
  "version": 3,
  "kernelspec": {
   "name": "python3",
   "display_name": "Python 3"
  }
 },
 "cells": [
  {
   "cell_type": "code",
   "execution_count": null,
   "metadata": {},
   "outputs": [],
   "source": [
    "!python --version"
   ]
  },
  {
   "cell_type": "code",
   "execution_count": null,
   "metadata": {},
   "outputs": [],
   "source": [
    "!pwd"
   ]
  },
  {
   "cell_type": "code",
   "execution_count": null,
   "metadata": {},
   "outputs": [],
   "source": [
    "CONFIG = 'basic_rnn'\n",
    "BUNDLE_PATH = '/root/magenta/magenta/models/melody_rnn/mag/basic_rnn.mag'\n",
    "OUTPUT_DIR = '/root/magenta/magenta/models/melody_rnn/output/2020.3.7-01'"
   ]
  },
  {
   "cell_type": "markdown",
   "metadata": {},
   "source": [
    "# 用 pre-trained model 生成序列"
   ],
   "execution_count": null,
   "outputs": []
  },
  {
   "cell_type": "code",
   "execution_count": null,
   "metadata": {},
   "outputs": [],
   "source": [
    "!melody_rnn_generate \\\n",
    "--config='attention_rnn' \\\n",
    "--bundle_file='/root/magenta/magenta/models/melody_rnn/mag/attention_rnn.mag' \\\n",
    "--output_dir='/root/magenta/magenta/models/melody_rnn/output/2020.3.30' \\\n",
    "--num_outputs=5 \\\n",
    "--num_steps=256 \\\n",
    "--primer_midi='/root/magenta/magenta/models/melody_rnn/primer.mid'"
   ]
  },
  {
   "cell_type": "markdown",
   "metadata": {},
   "source": [
    "# 制作数据集"
   ],
   "execution_count": null,
   "outputs": []
  },
  {
   "cell_type": "markdown",
   "metadata": {},
   "source": [
    "**注：这一节的脚本只是记录下来的，由于输出过多，VS Code容易与服务器断开连接，所以脚本需要在终端运行。**"
   ],
   "execution_count": null,
   "outputs": []
  },
  {
   "cell_type": "markdown",
   "metadata": {},
   "source": [
    "## Building your Dataset"
   ],
   "execution_count": null,
   "outputs": []
  },
  {
   "cell_type": "code",
   "execution_count": null,
   "metadata": {},
   "outputs": [],
   "source": [
    "INPUT_DIRECTORY=/download/clean_midi\n",
    "\n",
    "# TFRecord file that will contain NoteSequence protocol buffers.\n",
    "SEQUENCES_TFRECORD=/root/notesequences.tfrecord\n",
    "\n",
    "convert_dir_to_note_sequences \\\n",
    "  --input_dir=$INPUT_DIRECTORY \\\n",
    "  --output_file=$SEQUENCES_TFRECORD \\\n",
    "  --recursive"
   ]
  },
  {
   "cell_type": "markdown",
   "metadata": {},
   "source": [
    "## Create SequenceExamples"
   ],
   "execution_count": null,
   "outputs": []
  },
  {
   "cell_type": "code",
   "execution_count": null,
   "metadata": {},
   "outputs": [],
   "source": [
    "melody_rnn_create_dataset \\\n",
    "--config=attention_rnn \\\n",
    "--input=/root/notesequences.tfrecord \\\n",
    "--output_dir=/download/melody_rnn/sequence_examples \\\n",
    "--eval_ratio=0.10"
   ]
  },
  {
   "cell_type": "markdown",
   "metadata": {},
   "source": [
    "# 训练模型"
   ],
   "execution_count": null,
   "outputs": []
  },
  {
   "cell_type": "markdown",
   "metadata": {},
   "source": [
    "### 第一次训练(3.30-3.31): run1"
   ],
   "execution_count": null,
   "outputs": []
  },
  {
   "cell_type": "code",
   "execution_count": null,
   "metadata": {},
   "outputs": [],
   "source": [
    "melody_rnn_train \\\n",
    "--config=attention_rnn \\\n",
    "--run_dir=/root/magenta/magenta/models/melody_rnn/logdir/run1 \\\n",
    "--sequence_example_file=/download/melody_rnn/sequence_examples/training_melodies.tfrecord \\\n",
    "--hparams=\"batch_size=64,rnn_layer_sizes=[64,64]\" \\\n",
    "--num_training_steps=20000"
   ]
  },
  {
   "cell_type": "markdown",
   "metadata": {},
   "source": [
    "run1因为未知原因被中止。生成旋律："
   ],
   "execution_count": null,
   "outputs": []
  },
  {
   "cell_type": "code",
   "execution_count": null,
   "metadata": {},
   "outputs": [],
   "source": [
    "!melody_rnn_generate \\\n",
    "--config=attention_rnn \\\n",
    "--run_dir=/root/magenta/magenta/models/melody_rnn/logdir/run1 \\\n",
    "--output_dir=/root/magenta/magenta/models/melody_rnn/generated/run1 \\\n",
    "--num_outputs=10 \\\n",
    "--num_steps=128 \\\n",
    "--hparams=\"batch_size=64,rnn_layer_sizes=[64,64]\" \\\n",
    "--primer_melody=\"[60]\""
   ]
  },
  {
   "cell_type": "markdown",
   "metadata": {},
   "source": [
    "## 生成bundle file(.mag文件)"
   ],
   "execution_count": null,
   "outputs": []
  },
  {
   "cell_type": "code",
   "execution_count": null,
   "metadata": {},
   "outputs": [],
   "source": [
    "!melody_rnn_generate \\\n",
    "--config=attention_rnn \\\n",
    "--run_dir=/root/magenta/magenta/models/melody_rnn/logdir/run1 \\\n",
    "--hparams=\"batch_size=64,rnn_layer_sizes=[64,64]\" \\\n",
    "--bundle_file=/root/magenta/magenta/models/melody_rnn/generated/run1/attention_rnn.mag \\\n",
    "--save_generator_bundle"
   ]
  }
 ]
}