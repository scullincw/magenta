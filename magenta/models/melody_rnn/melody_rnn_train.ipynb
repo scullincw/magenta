{
 "nbformat": 4,
 "nbformat_minor": 2,
 "metadata": {
  "language_info": {
   "name": "python",
   "codemirror_mode": {
    "name": "ipython",
    "version": 3
   },
   "version": "3.7.6-final"
  },
  "orig_nbformat": 2,
  "file_extension": ".py",
  "mimetype": "text/x-python",
  "name": "python",
  "npconvert_exporter": "python",
  "pygments_lexer": "ipython3",
  "version": 3,
  "kernelspec": {
   "name": "python3",
   "display_name": "Python 3"
  }
 },
 "cells": [
  {
   "cell_type": "code",
   "execution_count": 5,
   "metadata": {},
   "outputs": [
    {
     "output_type": "stream",
     "name": "stdout",
     "text": "Python 3.7.6\n"
    }
   ],
   "source": [
    "!python --version"
   ]
  },
  {
   "cell_type": "code",
   "execution_count": null,
   "metadata": {},
   "outputs": [],
   "source": [
    "!pwd"
   ]
  },
  {
   "cell_type": "code",
   "execution_count": null,
   "metadata": {},
   "outputs": [],
   "source": [
    "CONFIG = 'basic_rnn'\n",
    "BUNDLE_PATH = '/root/magenta/magenta/models/melody_rnn/mag/basic_rnn.mag'\n",
    "OUTPUT_DIR = '/root/magenta/magenta/models/melody_rnn/output/2020.3.7-01'"
   ]
  },
  {
   "cell_type": "markdown",
   "metadata": {},
   "source": [
    "# 用 pre-trained model 生成序列"
   ],
   "execution_count": null,
   "outputs": []
  },
  {
   "cell_type": "code",
   "execution_count": null,
   "metadata": {},
   "outputs": [],
   "source": [
    "!melody_rnn_generate \\\n",
    "--config='attention_rnn' \\\n",
    "--bundle_file='/root/magenta/magenta/models/melody_rnn/mag/attention_rnn.mag' \\\n",
    "--output_dir='/root/magenta/magenta/models/melody_rnn/output/2020.3.30' \\\n",
    "--num_outputs=5 \\\n",
    "--num_steps=256 \\\n",
    "--primer_midi='/root/magenta/magenta/models/melody_rnn/primer.mid'"
   ]
  },
  {
   "cell_type": "markdown",
   "metadata": {},
   "source": [
    "# 制作数据集"
   ]
  },
  {
   "cell_type": "code",
   "execution_count": 6,
   "metadata": {},
   "outputs": [
    {
     "output_type": "error",
     "ename": "SyntaxError",
     "evalue": "invalid syntax (<ipython-input-6-bc978e391011>, line 1)",
     "traceback": [
      "\u001b[0;36m  File \u001b[0;32m\"<ipython-input-6-bc978e391011>\"\u001b[0;36m, line \u001b[0;32m1\u001b[0m\n\u001b[0;31m    INPUT_DIRECTORY=/download/clean_midi\u001b[0m\n\u001b[0m                    ^\u001b[0m\n\u001b[0;31mSyntaxError\u001b[0m\u001b[0;31m:\u001b[0m invalid syntax\n"
     ]
    }
   ],
   "source": [
    "INPUT_DIRECTORY='/download/clean_midi'\n",
    "\n",
    "# TFRecord file that will contain NoteSequence protocol buffers.\n",
    "SEQUENCES_TFRECORD=/root/notesequences.tfrecord\n",
    "\n",
    "convert_dir_to_note_sequences \\\n",
    "  --input_dir=$INPUT_DIRECTORY \\\n",
    "  --output_file=$SEQUENCES_TFRECORD \\\n",
    "  --recursive"
   ]
  },
  {
   "cell_type": "markdown",
   "metadata": {},
   "source": [
    "# 训练模型"
   ]
  },
  {
   "cell_type": "markdown",
   "metadata": {},
   "source": [
    "## Create SequenceExamples"
   ]
  },
  {
   "cell_type": "code",
   "execution_count": 1,
   "metadata": {},
   "outputs": [
    {
     "output_type": "error",
     "ename": "SyntaxError",
     "evalue": "invalid syntax (<ipython-input-1-3747404f7367>, line 3)",
     "traceback": [
      "\u001b[0;36m  File \u001b[0;32m\"<ipython-input-1-3747404f7367>\"\u001b[0;36m, line \u001b[0;32m3\u001b[0m\n\u001b[0;31m    --input=/root/notesequences.tfrecord \\\u001b[0m\n\u001b[0m            ^\u001b[0m\n\u001b[0;31mSyntaxError\u001b[0m\u001b[0;31m:\u001b[0m invalid syntax\n"
     ]
    }
   ],
   "source": [
    "!melody_rnn_create_dataset \\\n",
    "--config=attention_rnn \\\n",
    "--input=/root/notesequences.tfrecord \\\n",
    "--output_dir=/download/melody_rnn/sequence_examples \\\n",
    "--eval_ratio=0.10"
   ]
  },
  {
   "cell_type": "markdown",
   "metadata": {},
   "source": [
    "# 保存模型"
   ],
   "execution_count": null,
   "outputs": []
  },
  {
   "cell_type": "code",
   "execution_count": null,
   "metadata": {},
   "outputs": [],
   "source": [
    "from magenta.models.shared.sequence_generator import BaseSequenceGenerator"
   ]
  },
  {
   "cell_type": "code",
   "execution_count": null,
   "metadata": {},
   "outputs": [],
   "source": [
    "!melody_rnn_generate \\\n",
    "--config=attention_rnn \\\n",
    "--run_dir=/root/magenta/magenta/models/melody_rnn/logdir/run1 \\\n",
    "--hparams=\"batch_size=64,rnn_layer_sizes=[64,64]\" \\\n",
    "--bundle_file=/root/magenta/magenta/models/melody_rnn/mag/attention_rnn.mag \\\n",
    "--save_generator_bundle"
   ]
  }
 ]
}