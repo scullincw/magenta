{
 "nbformat": 4,
 "nbformat_minor": 2,
 "metadata": {
  "language_info": {
   "name": "python",
   "codemirror_mode": {
    "name": "ipython",
    "version": 3
   },
   "version": "3.7.6-final"
  },
  "orig_nbformat": 2,
  "file_extension": ".py",
  "mimetype": "text/x-python",
  "name": "python",
  "npconvert_exporter": "python",
  "pygments_lexer": "ipython3",
  "version": 3,
  "kernelspec": {
   "name": "python3",
   "display_name": "Python 3"
  }
 },
 "cells": [
  {
   "cell_type": "code",
   "execution_count": 1,
   "metadata": {},
   "outputs": [
    {
     "name": "stdout",
     "output_type": "stream",
     "text": "Python 3.7.6\n"
    }
   ],
   "source": [
    "!python --version"
   ]
  },
  {
   "cell_type": "code",
   "execution_count": 2,
   "metadata": {},
   "outputs": [
    {
     "name": "stdout",
     "output_type": "stream",
     "text": "/root\n"
    }
   ],
   "source": [
    "!pwd"
   ]
  },
  {
   "cell_type": "code",
   "execution_count": 3,
   "metadata": {},
   "outputs": [],
   "source": [
    "import magenta"
   ]
  },
  {
   "cell_type": "code",
   "execution_count": 4,
   "metadata": {},
   "outputs": [],
   "source": [
    "CONFIG = 'basic_rnn'\n",
    "BUNDLE_PATH = '/root/magenta/magenta/models/melody_rnn/mag/basic_rnn.mag'\n",
    "OUTPUT_DIR = '/root/magenta/magenta/models/melody_rnn/output/2020.3.7-01'"
   ]
  },
  {
   "cell_type": "markdown",
   "metadata": {},
   "source": [
    "# 用 pre-trained model 生成序列"
   ]
  },
  {
   "cell_type": "code",
   "execution_count": 12,
   "metadata": {},
   "outputs": [
    {
     "name": "stdout",
     "output_type": "stream",
     "text": "2020-03-07 21:37:46.117185: I tensorflow/core/platform/cpu_feature_guard.cc:142] Your CPU supports instructions that this TensorFlow binary was not compiled to use: AVX2 FMA\n2020-03-07 21:37:46.131090: I tensorflow/core/platform/profile_utils/cpu_utils.cc:94] CPU Frequency: 2494220000 Hz\n2020-03-07 21:37:46.131524: I tensorflow/compiler/xla/service/service.cc:168] XLA service 0x559fcce4b2b0 initialized for platform Host (this does not guarantee that XLA will be used). Devices:\n2020-03-07 21:37:46.131553: I tensorflow/compiler/xla/service/service.cc:176]   StreamExecutor device (0): Host, Default Version\n2020-03-07 21:37:46.171534: W tensorflow/core/framework/op_def_util.cc:357] Op TensorArray is deprecated. It will cease to work in GraphDef version 16. Use TensorArrayV3.\n2020-03-07 21:37:46.172288: W tensorflow/core/framework/op_def_util.cc:357] Op TensorArrayScatter is deprecated. It will cease to work in GraphDef version 19. Use TensorArrayGradV3.\n2020-03-07 21:37:46.173057: W tensorflow/core/framework/op_def_util.cc:357] Op TensorArrayRead is deprecated. It will cease to work in GraphDef version 16. Use TensorArrayReadV3.\n2020-03-07 21:37:46.177462: W tensorflow/core/framework/op_def_util.cc:357] Op TensorArrayWrite is deprecated. It will cease to work in GraphDef version 16. Use TensorArrayWriteV3.\n2020-03-07 21:37:46.177868: W tensorflow/core/framework/op_def_util.cc:357] Op TensorArraySize is deprecated. It will cease to work in GraphDef version 16. Use TensorArraySizeV3.\n2020-03-07 21:37:46.178108: W tensorflow/core/framework/op_def_util.cc:357] Op TensorArrayGather is deprecated. It will cease to work in GraphDef version 16. Use TensorArrayGatherV3.\nWARNING:tensorflow:The saved meta_graph is possibly from an older release:\n'model_variables' collection should be of type 'byte_list', but instead is of type 'node_list'.\nW0307 21:37:46.252445 139666600400704 meta_graph.py:887] The saved meta_graph is possibly from an older release:\n'model_variables' collection should be of type 'byte_list', but instead is of type 'node_list'.\nINFO:tensorflow:Restoring parameters from /tmp/tmphlxo053x/model.ckpt\nI0307 21:37:46.256485 139666600400704 saver.py:1284] Restoring parameters from /tmp/tmphlxo053x/model.ckpt\nINFO:tensorflow:Beam search yields sequence with log-likelihood: -149.136536 \nI0307 21:37:48.553413 139666600400704 events_rnn_model.py:381] Beam search yields sequence with log-likelihood: -149.136536 \nINFO:tensorflow:Beam search yields sequence with log-likelihood: -206.576584 \nI0307 21:37:51.086554 139666600400704 events_rnn_model.py:381] Beam search yields sequence with log-likelihood: -206.576584 \nINFO:tensorflow:Beam search yields sequence with log-likelihood: -262.307220 \nI0307 21:37:53.036821 139666600400704 events_rnn_model.py:381] Beam search yields sequence with log-likelihood: -262.307220 \nINFO:tensorflow:Beam search yields sequence with log-likelihood: -156.290710 \nI0307 21:37:54.651914 139666600400704 events_rnn_model.py:381] Beam search yields sequence with log-likelihood: -156.290710 \nINFO:tensorflow:Beam search yields sequence with log-likelihood: -102.399834 \nI0307 21:37:56.370296 139666600400704 events_rnn_model.py:381] Beam search yields sequence with log-likelihood: -102.399834 \nINFO:tensorflow:Wrote 5 MIDI files to /root/magenta/magenta/models/melody_rnn/output/2020.3.7-02\nI0307 21:37:56.380676 139666600400704 melody_rnn_generate.py:218] Wrote 5 MIDI files to /root/magenta/magenta/models/melody_rnn/output/2020.3.7-02\n"
    }
   ],
   "source": [
    "!python /root/magenta/magenta/models/melody_rnn/melody_rnn_generate.py \\\n",
    "--config='attention_rnn' \\\n",
    "--bundle_file='/root/magenta/magenta/models/melody_rnn/mag/attention_rnn.mag' \\\n",
    "--output_dir='/root/magenta/magenta/models/melody_rnn/output/2020.3.7-02' \\\n",
    "--num_outputs=5 \\\n",
    "--num_steps=256 \\\n",
    "--primer_midi='/root/magenta/magenta/models/melody_rnn/primer.mid'"
   ]
  },
  {
   "cell_type": "code",
   "execution_count": null,
   "metadata": {},
   "outputs": [],
   "source": []
  }
 ]
}