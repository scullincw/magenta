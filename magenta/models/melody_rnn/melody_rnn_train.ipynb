{
 "nbformat": 4,
 "nbformat_minor": 2,
 "metadata": {
  "language_info": {
   "name": "python",
   "codemirror_mode": {
    "name": "ipython",
    "version": 3
   },
   "version": "3.7.6-final"
  },
  "orig_nbformat": 2,
  "file_extension": ".py",
  "mimetype": "text/x-python",
  "name": "python",
  "npconvert_exporter": "python",
  "pygments_lexer": "ipython3",
  "version": 3,
  "kernelspec": {
   "name": "python3",
   "display_name": "Python 3"
  }
 },
 "cells": [
  {
   "cell_type": "code",
   "execution_count": null,
   "metadata": {},
   "outputs": [],
   "source": [
    "!python --version"
   ]
  },
  {
   "cell_type": "code",
   "execution_count": null,
   "metadata": {},
   "outputs": [],
   "source": [
    "!pwd"
   ]
  },
  {
   "cell_type": "code",
   "execution_count": null,
   "metadata": {},
   "outputs": [],
   "source": [
    "CONFIG = 'basic_rnn'\n",
    "BUNDLE_PATH = '/root/magenta/magenta/models/melody_rnn/mag/basic_rnn.mag'\n",
    "OUTPUT_DIR = '/root/magenta/magenta/models/melody_rnn/output/2020.3.7-01'"
   ]
  },
  {
   "cell_type": "markdown",
   "metadata": {},
   "source": [
    "# 用 pre-trained model 生成序列"
   ],
   "execution_count": null,
   "outputs": []
  },
  {
   "cell_type": "code",
   "execution_count": null,
   "metadata": {},
   "outputs": [],
   "source": [
    "!melody_rnn_generate \\\n",
    "--config='attention_rnn' \\\n",
    "--bundle_file='/root/magenta/magenta/models/melody_rnn/mag/attention_rnn.mag' \\\n",
    "--output_dir='/root/magenta/magenta/models/melody_rnn/output/2020.3.30' \\\n",
    "--num_outputs=5 \\\n",
    "--num_steps=256 \\\n",
    "--primer_midi='/root/magenta/magenta/models/melody_rnn/primer.mid'"
   ]
  },
  {
   "cell_type": "markdown",
   "metadata": {},
   "source": [
    "# 制作数据集"
   ],
   "execution_count": null,
   "outputs": []
  },
  {
   "cell_type": "markdown",
   "metadata": {},
   "source": [
    "**注：这一节的脚本只是记录下来的，由于输出过多，VS Code容易与服务器断开连接，所以脚本需要在终端运行。**"
   ],
   "execution_count": null,
   "outputs": []
  },
  {
   "cell_type": "markdown",
   "metadata": {},
   "source": [
    "## Building your Dataset"
   ],
   "execution_count": null,
   "outputs": []
  },
  {
   "cell_type": "code",
   "execution_count": null,
   "metadata": {},
   "outputs": [],
   "source": [
    "INPUT_DIRECTORY=/download/clean_midi\n",
    "\n",
    "# TFRecord file that will contain NoteSequence protocol buffers.\n",
    "SEQUENCES_TFRECORD=/root/notesequences.tfrecord\n",
    "\n",
    "convert_dir_to_note_sequences \\\n",
    "  --input_dir=$INPUT_DIRECTORY \\\n",
    "  --output_file=$SEQUENCES_TFRECORD \\\n",
    "  --recursive"
   ]
  },
  {
   "cell_type": "markdown",
   "metadata": {},
   "source": [
    "## Create SequenceExamples"
   ],
   "execution_count": null,
   "outputs": []
  },
  {
   "cell_type": "code",
   "execution_count": null,
   "metadata": {},
   "outputs": [],
   "source": [
    "melody_rnn_create_dataset \\\n",
    "--config=attention_rnn \\\n",
    "--input=/root/notesequences.tfrecord \\\n",
    "--output_dir=/download/melody_rnn/sequence_examples \\\n",
    "--eval_ratio=0.10"
   ]
  },
  {
   "cell_type": "markdown",
   "metadata": {},
   "source": [
    "# 训练模型"
   ],
   "execution_count": null,
   "outputs": []
  },
  {
   "cell_type": "markdown",
   "metadata": {},
   "source": [
    "## 第一次训练(3.30-3.31): run1"
   ]
  },
  {
   "cell_type": "code",
   "execution_count": null,
   "metadata": {},
   "outputs": [],
   "source": [
    "melody_rnn_train \\\n",
    "--config=attention_rnn \\\n",
    "--run_dir=/root/magenta/magenta/models/melody_rnn/logdir/run1 \\\n",
    "--sequence_example_file=/download/melody_rnn/sequence_examples/training_melodies.tfrecord \\\n",
    "--hparams=\"batch_size=64,rnn_layer_sizes=[64,64]\" \\\n",
    "--num_training_steps=20000"
   ]
  },
  {
   "cell_type": "markdown",
   "metadata": {},
   "source": [
    "run1因为未知原因被中止。生成旋律："
   ],
   "execution_count": null,
   "outputs": []
  },
  {
   "cell_type": "code",
   "execution_count": null,
   "metadata": {},
   "outputs": [],
   "source": [
    "!melody_rnn_generate \\\n",
    "--config=attention_rnn \\\n",
    "--run_dir=/root/magenta/magenta/models/melody_rnn/logdir/run1 \\\n",
    "--output_dir=/root/magenta/magenta/models/melody_rnn/generated/run1 \\\n",
    "--num_outputs=10 \\\n",
    "--num_steps=128 \\\n",
    "--hparams=\"batch_size=64,rnn_layer_sizes=[64,64]\" \\\n",
    "--primer_melody=\"[60]\""
   ]
  },
  {
   "cell_type": "markdown",
   "metadata": {},
   "source": [
    "## 生成bundle file(.mag文件)"
   ],
   "execution_count": null,
   "outputs": []
  },
  {
   "cell_type": "code",
   "execution_count": null,
   "metadata": {},
   "outputs": [],
   "source": [
    "!melody_rnn_generate \\\n",
    "--config=attention_rnn \\\n",
    "--run_dir=/root/magenta/magenta/models/melody_rnn/logdir/run1 \\\n",
    "--hparams=\"batch_size=64,rnn_layer_sizes=[64,64]\" \\\n",
    "--bundle_file=/root/magenta/magenta/models/melody_rnn/generated/run1/attention_rnn.mag \\\n",
    "--save_generator_bundle"
   ]
  },
  {
   "cell_type": "markdown",
   "metadata": {},
   "source": [
    "## 第二次训练(4.4): run2"
   ]
  },
  {
   "cell_type": "code",
   "execution_count": null,
   "metadata": {},
   "outputs": [],
   "source": [
    "melody_rnn_create_dataset \\\n",
    "--config=basic_rnn \\\n",
    "--input=/root/notesequences.tfrecord \\\n",
    "--output_dir=/download/basic_rnn/sequence_examples \\\n",
    "--eval_ratio=0.10"
   ]
  },
  {
   "cell_type": "markdown",
   "metadata": {},
   "source": [
    "**制作数据集出错：**\n",
    "\n",
    "> Traceback (most recent call last):\n",
    "  File \"/root/anaconda3/envs/magenta/bin/melody_rnn_create_dataset\", line 11, in <module>\n",
    "    load_entry_point('magenta', 'console_scripts', 'melody_rnn_create_dataset')()  File \"/root/magenta/magenta/models/melody_rnn/melody_rnn_create_dataset.py\", line 63, in console_entry_point\n",
    "    tf.app.run(main)\n",
    "  File \"/root/anaconda3/envs/magenta/lib/python3.7/site-packages/tensorflow_core/python/platform/app.py\", line 40, in run\n",
    "    _run(main=main, argv=argv, flags_parser=_parse_flags_tolerate_undef)\n",
    "  File \"/root/anaconda3/envs/magenta/lib/python3.7/site-packages/absl/app.py\", line 299, in run\n",
    "    _run_main(main, args)\n",
    "  File \"/root/anaconda3/envs/magenta/lib/python3.7/site-packages/absl/app.py\", line 250, in _run_main\n",
    "    sys.exit(main(argv))\n",
    "  File \"/root/magenta/magenta/models/melody_rnn/melody_rnn_create_dataset.py\", line 59, in main\n",
    "    FLAGS.output_dir)\n",
    "  File \"/root/magenta/magenta/pipelines/pipeline.py\", line 374, in run_pipeline_serial\n",
    "    for input_ in input_iterator:\n",
    "  File \"/root/magenta/magenta/pipelines/pipeline.py\", line 310, in tf_record_iterator\n",
    "    for raw_bytes in tf.python_io.tf_record_iterator(tfrecord_file):\n",
    "  File \"/root/anaconda3/envs/magenta/lib/python3.7/site-packages/tensorflow_core/python/lib/io/tf_record.py\", line 181, in tf_record_iterator\n",
    "    reader.GetNext()\n",
    "  File \"/root/anaconda3/envs/magenta/lib/python3.7/site-packages/tensorflow_core/python/pywrap_tensorflow_internal.py\", line 1034, in GetNext    return _pywrap_tensorflow_internal.PyRecordReader_GetNext(self)tensorflow.python.framework.errors_impl.DataLossError: truncated record at 1412079946"
   ]
  },
  {
   "cell_type": "code",
   "execution_count": null,
   "metadata": {},
   "outputs": [],
   "source": [
    "melody_rnn_train \\\n",
    "--config=basic_rnn \\\n",
    "--run_dir=/root/magenta/magenta/models/melody_rnn/logdir/run2 \\\n",
    "--sequence_example_file=/download/basic_rnn/sequence_examples/training_melodies.tfrecord \\\n",
    "--hparams=\"batch_size=64,rnn_layer_sizes=[64,64]\" \\\n",
    "--num_training_steps=20000"
   ]
  },
  {
   "cell_type": "markdown",
   "metadata": {},
   "source": [
    "训练成功，测试生成旋律。"
   ]
  },
  {
   "cell_type": "markdown",
   "metadata": {},
   "source": [
    "**eval**"
   ]
  },
  {
   "cell_type": "code",
   "execution_count": null,
   "metadata": {},
   "outputs": [],
   "source": [
    "melody_rnn_train \\\n",
    "--config=basic_rnn \\\n",
    "--run_dir=/root/magenta/magenta/models/melody_rnn/logdir/run2 \\\n",
    "--sequence_example_file=/download/basic_rnn/sequence_examples/eval_melodies.tfrecord \\\n",
    "--hparams=\"batch_size=64,rnn_layer_sizes=[64,64]\" \\\n",
    "--num_training_steps=20000 \\\n",
    "--eval"
   ]
  },
  {
   "cell_type": "code",
   "execution_count": 1,
   "metadata": {},
   "outputs": [
    {
     "output_type": "stream",
     "name": "stdout",
     "text": "INFO:tensorflow:hparams = {'batch_size': 64, 'rnn_layer_sizes': [64, 64], 'dropout_keep_prob': 0.5, 'attn_length': 0, 'clip_norm': 5, 'learning_rate': 0.001, 'residual_connections': False, 'use_cudnn': False}\nI0404 18:08:54.359242 140701875304256 events_rnn_graph.py:226] hparams = {'batch_size': 64, 'rnn_layer_sizes': [64, 64], 'dropout_keep_prob': 0.5, 'attn_length': 0, 'clip_norm': 5, 'learning_rate': 0.001, 'residual_connections': False, 'use_cudnn': False}\nWARNING:tensorflow:From /root/magenta/magenta/models/shared/events_rnn_graph.py:57: BasicLSTMCell.__init__ (from tensorflow.python.ops.rnn_cell_impl) is deprecated and will be removed in a future version.\nInstructions for updating:\nThis class is equivalent as tf.keras.layers.LSTMCell, and will be replaced by that in Tensorflow 2.0.\nW0404 18:08:54.362559 140701875304256 deprecation.py:323] From /root/magenta/magenta/models/shared/events_rnn_graph.py:57: BasicLSTMCell.__init__ (from tensorflow.python.ops.rnn_cell_impl) is deprecated and will be removed in a future version.\nInstructions for updating:\nThis class is equivalent as tf.keras.layers.LSTMCell, and will be replaced by that in Tensorflow 2.0.\nWARNING:tensorflow:From /root/magenta/magenta/models/shared/events_rnn_graph.py:69: MultiRNNCell.__init__ (from tensorflow.python.ops.rnn_cell_impl) is deprecated and will be removed in a future version.\nInstructions for updating:\nThis class is equivalent as tf.keras.layers.StackedRNNCells, and will be replaced by that in Tensorflow 2.0.\nW0404 18:08:54.370109 140701875304256 deprecation.py:323] From /root/magenta/magenta/models/shared/events_rnn_graph.py:69: MultiRNNCell.__init__ (from tensorflow.python.ops.rnn_cell_impl) is deprecated and will be removed in a future version.\nInstructions for updating:\nThis class is equivalent as tf.keras.layers.StackedRNNCells, and will be replaced by that in Tensorflow 2.0.\nWARNING:tensorflow:From /root/magenta/magenta/models/shared/events_rnn_graph.py:276: dynamic_rnn (from tensorflow.python.ops.rnn) is deprecated and will be removed in a future version.\nInstructions for updating:\nPlease use `keras.layers.RNN(cell)`, which is equivalent to this API\nW0404 18:08:54.390639 140701875304256 deprecation.py:323] From /root/magenta/magenta/models/shared/events_rnn_graph.py:276: dynamic_rnn (from tensorflow.python.ops.rnn) is deprecated and will be removed in a future version.\nInstructions for updating:\nPlease use `keras.layers.RNN(cell)`, which is equivalent to this API\nWARNING:tensorflow:From /root/anaconda3/envs/magenta/lib/python3.7/site-packages/tensorflow_core/python/ops/rnn_cell_impl.py:735: Layer.add_variable (from tensorflow.python.keras.engine.base_layer) is deprecated and will be removed in a future version.\nInstructions for updating:\nPlease use `layer.add_weight` method instead.\nW0404 18:08:54.461916 140701875304256 deprecation.py:323] From /root/anaconda3/envs/magenta/lib/python3.7/site-packages/tensorflow_core/python/ops/rnn_cell_impl.py:735: Layer.add_variable (from tensorflow.python.keras.engine.base_layer) is deprecated and will be removed in a future version.\nInstructions for updating:\nPlease use `layer.add_weight` method instead.\nWARNING:tensorflow:From /root/anaconda3/envs/magenta/lib/python3.7/site-packages/tensorflow_core/python/ops/rnn_cell_impl.py:739: calling Zeros.__init__ (from tensorflow.python.ops.init_ops) with dtype is deprecated and will be removed in a future version.\nInstructions for updating:\nCall initializer instance with the dtype argument instead of passing it to the constructor\nW0404 18:08:54.477133 140701875304256 deprecation.py:506] From /root/anaconda3/envs/magenta/lib/python3.7/site-packages/tensorflow_core/python/ops/rnn_cell_impl.py:739: calling Zeros.__init__ (from tensorflow.python.ops.init_ops) with dtype is deprecated and will be removed in a future version.\nInstructions for updating:\nCall initializer instance with the dtype argument instead of passing it to the constructor\nWARNING:tensorflow:From /root/anaconda3/envs/magenta/lib/python3.7/site-packages/tensorflow_core/contrib/layers/python/layers/layers.py:1866: Layer.apply (from tensorflow.python.keras.engine.base_layer) is deprecated and will be removed in a future version.\nInstructions for updating:\nPlease use `layer.__call__` method instead.\nW0404 18:08:54.576326 140701875304256 deprecation.py:323] From /root/anaconda3/envs/magenta/lib/python3.7/site-packages/tensorflow_core/contrib/layers/python/layers/layers.py:1866: Layer.apply (from tensorflow.python.keras.engine.base_layer) is deprecated and will be removed in a future version.\nInstructions for updating:\nPlease use `layer.__call__` method instead.\nWARNING:tensorflow:From /root/magenta/magenta/models/shared/events_rnn_graph.py:390: div (from tensorflow.python.ops.math_ops) is deprecated and will be removed in a future version.\nInstructions for updating:\nDeprecated in favor of operator or tf.math.divide.\nW0404 18:08:54.595345 140701875304256 deprecation.py:323] From /root/magenta/magenta/models/shared/events_rnn_graph.py:390: div (from tensorflow.python.ops.math_ops) is deprecated and will be removed in a future version.\nInstructions for updating:\nDeprecated in favor of operator or tf.math.divide.\n2020-04-04 18:08:54.611131: I tensorflow/core/platform/cpu_feature_guard.cc:142] Your CPU supports instructions that this TensorFlow binary was not compiled to use: AVX2 AVX512F FMA\n2020-04-04 18:08:54.660844: I tensorflow/core/platform/profile_utils/cpu_utils.cc:94] CPU Frequency: 2500015000 Hz\n2020-04-04 18:08:54.661204: I tensorflow/compiler/xla/service/service.cc:168] XLA service 0x556968d6c1f0 initialized for platform Host (this does not guarantee that XLA will be used). Devices:\n2020-04-04 18:08:54.661234: I tensorflow/compiler/xla/service/service.cc:176]   StreamExecutor device (0): Host, Default Version\nINFO:tensorflow:Checkpoint used: /root/magenta/magenta/models/melody_rnn/logdir/run2/train/model.ckpt-20000\nI0404 18:08:54.664632 140701875304256 model.py:58] Checkpoint used: /root/magenta/magenta/models/melody_rnn/logdir/run2/train/model.ckpt-20000\nINFO:tensorflow:Restoring parameters from /root/magenta/magenta/models/melody_rnn/logdir/run2/train/model.ckpt-20000\nI0404 18:08:54.666364 140701875304256 saver.py:1284] Restoring parameters from /root/magenta/magenta/models/melody_rnn/logdir/run2/train/model.ckpt-20000\nINFO:tensorflow:Beam search yields sequence with log-likelihood: -174.073639 \nI0404 18:08:56.205521 140701875304256 events_rnn_model.py:381] Beam search yields sequence with log-likelihood: -174.073639 \nINFO:tensorflow:Beam search yields sequence with log-likelihood: -134.690750 \nI0404 18:08:57.469471 140701875304256 events_rnn_model.py:381] Beam search yields sequence with log-likelihood: -134.690750 \nINFO:tensorflow:Beam search yields sequence with log-likelihood: -121.316216 \nI0404 18:08:58.777879 140701875304256 events_rnn_model.py:381] Beam search yields sequence with log-likelihood: -121.316216 \nINFO:tensorflow:Beam search yields sequence with log-likelihood: -182.567429 \nI0404 18:09:00.350532 140701875304256 events_rnn_model.py:381] Beam search yields sequence with log-likelihood: -182.567429 \nINFO:tensorflow:Beam search yields sequence with log-likelihood: -94.915680 \nI0404 18:09:01.845368 140701875304256 events_rnn_model.py:381] Beam search yields sequence with log-likelihood: -94.915680 \nINFO:tensorflow:Beam search yields sequence with log-likelihood: -166.009460 \nI0404 18:09:03.329886 140701875304256 events_rnn_model.py:381] Beam search yields sequence with log-likelihood: -166.009460 \nINFO:tensorflow:Beam search yields sequence with log-likelihood: -157.157288 \nI0404 18:09:04.823263 140701875304256 events_rnn_model.py:381] Beam search yields sequence with log-likelihood: -157.157288 \nINFO:tensorflow:Beam search yields sequence with log-likelihood: -79.794044 \nI0404 18:09:06.299549 140701875304256 events_rnn_model.py:381] Beam search yields sequence with log-likelihood: -79.794044 \nINFO:tensorflow:Beam search yields sequence with log-likelihood: -101.765556 \nI0404 18:09:07.735581 140701875304256 events_rnn_model.py:381] Beam search yields sequence with log-likelihood: -101.765556 \nINFO:tensorflow:Beam search yields sequence with log-likelihood: -125.129135\nI0404 18:09:09.575811 140701875304256 events_rnn_model.py:381] Beam search yields sequence with log-likelihood: -125.129135 \nINFO:tensorflow:Wrote 10 MIDI files to /root/magenta/magenta/models/melody_rnn/generated/run2\nI0404 18:09:09.586684 140701875304256 melody_rnn_generate.py:218] Wrote 10 MIDI files to /root/magenta/magenta/models/melody_rnn/generated/run2\n"
    }
   ],
   "source": [
    "!melody_rnn_generate \\\n",
    "--config=basic_rnn \\\n",
    "--run_dir=/root/magenta/magenta/models/melody_rnn/logdir/run2 \\\n",
    "--output_dir=/root/magenta/magenta/models/melody_rnn/generated/run2 \\\n",
    "--num_outputs=10 \\\n",
    "--num_steps=128 \\\n",
    "--hparams=\"batch_size=64,rnn_layer_sizes=[64,64]\" \\\n",
    "--primer_melody=\"[60]\""
   ]
  }
 ]
}